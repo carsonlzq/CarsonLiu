{
 "cells": [
  {
   "cell_type": "markdown",
   "metadata": {},
   "source": [
    "# Final Project\n",
    "\n",
    "You will be asked to download data by yourselves and answer several data science questions through this final project. This project has two parts.\n",
    "\n",
    "\n",
    "## Part 1 (15 Points):\n",
    "\n",
    "This part contains 10 different data science questions that you are asked to answer. You need to download the corresponding data and write code to process the data to answer these questions. For each question, you need to provide your code to anser this question, as well as final answers. Each question will be worth 1.5 points in this part. \n",
    "\n",
    "\n",
    "## Final Submission:\n",
    "\n",
    "Your final submission will contain two files:\n",
    "\n",
    "1. The first would be this notebook. You need to provide code for your answers as well as your answers. You also need to provide visualization and executive summary using Markdown in this notebook. \n",
    "\n",
    "2. The second is the html version of this notebook. \n"
   ]
  },
  {
   "cell_type": "markdown",
   "metadata": {},
   "source": [
    "## Part 1\n",
    "\n",
    "First, you need to download the most recent datasets containing listing and reviews in **Los Angeles** from [insidearibnb.com](http://insideairbnb.com/get-the-data.html). (September,2019,detailed data)You will then need to provide the code as well as answers to the following questions.\n",
    "\n",
    "**To make sure that you downloaded the right dataset, your solution to Question 1 should be:**\n",
    "1. **Number of unique listings = 45053**\n",
    "2. **Number of unique hosts = 26286**"
   ]
  },
  {
   "cell_type": "markdown",
   "metadata": {},
   "source": [
    "### Question 1: How many unique listings are there in the LA dataset? How many unique hosts are there?\n",
    "**Question 1 Answer:**\n",
    " \n",
    " We put the data with jupyter notebook in the same directory. The listings csv file has 45053 rows and 106 columns.\n",
    " There are 45053 unique listings and 26286 unique hosts in LA dataset."
   ]
  },
  {
   "cell_type": "code",
   "execution_count": 1,
   "metadata": {},
   "outputs": [
    {
     "name": "stderr",
     "output_type": "stream",
     "text": [
      "C:\\Users\\WenLungHsu\\Anaconda3\\lib\\site-packages\\IPython\\core\\interactiveshell.py:3057: DtypeWarning: Columns (61,62) have mixed types. Specify dtype option on import or set low_memory=False.\n",
      "  interactivity=interactivity, compiler=compiler, result=result)\n"
     ]
    },
    {
     "name": "stdout",
     "output_type": "stream",
     "text": [
      "(45053, 106)\n",
      "(26286, 106)\n"
     ]
    }
   ],
   "source": [
    "# You need to provide the code to answer the previous quesiton\n",
    "# (you should also briefly explain your data structure -- \n",
    "# where do you put your data and how you get your data)\n",
    "import pandas as pd\n",
    "\n",
    "df_la = pd.read_csv('./listings.csv.gz',compression='gzip')\n",
    "\n",
    "\n",
    "duplicates_first_all = df_la.duplicated(keep = \"first\")\n",
    "print(df_la.loc[duplicates_first_all == False,:].shape)\n",
    "\n",
    "duplicates_first_host = df_la.host_id.duplicated(keep = \"first\")\n",
    "print(df_la.loc[duplicates_first_host == False,:].shape)"
   ]
  },
  {
   "cell_type": "markdown",
   "metadata": {},
   "source": [
    "### Question 2: What is the mean, median, standard deviation, minimum and maximum of the number of listings per host in LA? (for each host, you only need to consider the listings from LA)\n",
    "**Question 2 Answer:**\n",
    "\n",
    "The mean of the number of listings per hos is 1.713954, median is 1, standard deviation is 2.999183, minimus 1, maximum 172."
   ]
  },
  {
   "cell_type": "code",
   "execution_count": 10,
   "metadata": {},
   "outputs": [
    {
     "data": {
      "text/plain": [
       "mean      1.713954\n",
       "std       2.999183\n",
       "amin      1.000000\n",
       "amax    172.000000\n",
       "Name: calculated_host_listings_count, dtype: float64"
      ]
     },
     "execution_count": 10,
     "metadata": {},
     "output_type": "execute_result"
    }
   ],
   "source": [
    "# You need to provide the code to answer the previous quesiton\n",
    "import numpy as np\n",
    "df_la.loc[duplicates_first_host == False,\"calculated_host_listings_count\"].agg([np.mean, np.std, np.min, np.max])\n"
   ]
  },
  {
   "cell_type": "markdown",
   "metadata": {},
   "source": [
    "### Question 3: What is the average and standard deviation number of listings for a super host versus a non-super host? Does super host or non-super host have more listings on average?\n",
    "**Question 3 Answer:**\n",
    "\n",
    "The super host has mean 1.824264, standard deviation 3.177892, while non-super host has mean 1.671021, standard deviation 2.926276.\n",
    "Super host indeed has more listing on average.\n"
   ]
  },
  {
   "cell_type": "code",
   "execution_count": 11,
   "metadata": {},
   "outputs": [
    {
     "data": {
      "text/plain": [
       "mean    1.824264\n",
       "std     3.177892\n",
       "Name: calculated_host_listings_count, dtype: float64"
      ]
     },
     "execution_count": 11,
     "metadata": {},
     "output_type": "execute_result"
    }
   ],
   "source": [
    "# You need to provide the code to answer the previous quesiton\n",
    "import numpy as np\n",
    "#for super host\n",
    "df_la.loc[duplicates_first_host == False,:].loc[df_la.host_is_superhost == \"t\", :][\"calculated_host_listings_count\"].agg([np.mean,np.std])"
   ]
  },
  {
   "cell_type": "code",
   "execution_count": 12,
   "metadata": {},
   "outputs": [
    {
     "data": {
      "text/plain": [
       "mean    1.671021\n",
       "std     2.926276\n",
       "Name: calculated_host_listings_count, dtype: float64"
      ]
     },
     "execution_count": 12,
     "metadata": {},
     "output_type": "execute_result"
    }
   ],
   "source": [
    "#for non-super host\n",
    "df_la.loc[duplicates_first_host == False,:].loc[df_la.host_is_superhost == \"f\", :][\"calculated_host_listings_count\"].agg([np.mean,np.std])"
   ]
  },
  {
   "cell_type": "markdown",
   "metadata": {},
   "source": [
    "### Question 4: What are the unique types of host verifications are there? (It doesn't matter if you include \"None\" or empty string as a type)\n",
    "**Question 4 Answer:**\n",
    "\n",
    "#There are 22 unique types of host verifications, including 'email ', 'phone', 'reviews', 'jumio', 'government_id','facebook', 'kba', 'work_email', 'offline_government_id', 'selfie', 'identity_manual', 'google', 'manual_online', 'manual_offline', 'sent_id', '', 'photographer', 'zhima_selfie', 'None', 'weibo', 'sesame' and'sesame_offline'.\n"
   ]
  },
  {
   "cell_type": "code",
   "execution_count": 14,
   "metadata": {},
   "outputs": [
    {
     "name": "stdout",
     "output_type": "stream",
     "text": [
      "[\"'email'\", \"'phone'\", \"'facebook'\", \"'reviews'\", \"'kba'\", \"'jumio'\", \"'government_id'\", \"'offline_government_id'\", \"'selfie'\", \"'identity_manual'\", \"'work_email'\", \"'manual_online'\", \"'manual_offline'\", \"'google'\", '', \"'sent_id'\", 'None', \"'sesame'\", \"'sesame_offline'\", \"'photographer'\", \"'zhima_selfie'\", \"'weibo'\"]\n"
     ]
    }
   ],
   "source": [
    "# You need to provide the code to answer the previous quesiton\n",
    "verifications_list = []\n",
    "for line in df_la[\"host_verifications\"]:\n",
    "    v = line.strip(\"][\").replace(\" \",\"\").split(\",\")\n",
    "    for j in v:\n",
    "        if j not in verifications_list:\n",
    "            verifications_list.append(j)\n",
    "\n",
    "print(verifications_list)"
   ]
  },
  {
   "cell_type": "markdown",
   "metadata": {},
   "source": [
    "### Question 5: What are the five most popular verification types of hosts? For each type of the top five verifications, how many percent of hosts verify that type?\n",
    "**Question 5 Answer:**\n",
    "\n",
    "#The five most pupluar verification is email, phone, reviews, jumio and government_id.\n",
    "#There are 93.84% of hosts verifying email, 99.68% verifying phone, 68.85% verifying reviews,43.34% verifying jumio and 58.77% verifying government_id.\n"
   ]
  },
  {
   "cell_type": "code",
   "execution_count": 15,
   "metadata": {},
   "outputs": [
    {
     "name": "stdout",
     "output_type": "stream",
     "text": [
      "(\"'phone'\", 26201) 99.7%\n",
      "(\"'email'\", 24666) 93.8%\n",
      "(\"'reviews'\", 18099) 68.9%\n",
      "(\"'government_id'\", 15448) 58.8%\n",
      "(\"'jumio'\", 11392) 43.3%\n"
     ]
    }
   ],
   "source": [
    "# You need to provide the code to answer the previous quesiton\n",
    "verifications_count = {}\n",
    "for line in df_la.loc[duplicates_first_host == False,:][\"host_verifications\"]:\n",
    "    v = line.strip(\"][\").replace(\" \",\"\").split(\",\")\n",
    "    for j in v:\n",
    "        if j in verifications_count:\n",
    "            verifications_count[j] += 1\n",
    "        else:\n",
    "            verifications_count[j] = 1\n",
    "\n",
    "for i in sorted(verifications_count.items(), key=lambda x: x[1] , reverse= True)[:5]:\n",
    "    print (i,'{:.1%}'.format(i[1]/26286))\n"
   ]
  },
  {
   "cell_type": "markdown",
   "metadata": {},
   "source": [
    "### Question 6: What is the mean, standard deviation of the average price of a listing in Los Angles from 01/01/2020 to 03/01/2020 (inclusive)? (For listings that are not available in this time, you should not count them in the average price.)\n",
    "\n",
    "**Question 6 Answer:**\n",
    "\n",
    "#The mean of the average price of a listing in Los Angles from 01/01/2020 to 03/01/2020 is 254.778227 and standard deviation is 684.755050.\n"
   ]
  },
  {
   "cell_type": "code",
   "execution_count": 16,
   "metadata": {
    "scrolled": true
   },
   "outputs": [],
   "source": [
    "# You need to provide the code to answer the previous quesiton\n",
    "import pandas as pd\n",
    "df_la_calendar = pd.read_csv('./calendar.csv.gz',compression='gzip')"
   ]
  },
  {
   "cell_type": "code",
   "execution_count": 86,
   "metadata": {},
   "outputs": [],
   "source": [
    "df_la_calendar_no_nan=df_la_calendar.dropna(axis=0).copy()"
   ]
  },
  {
   "cell_type": "code",
   "execution_count": 18,
   "metadata": {},
   "outputs": [],
   "source": [
    "df_la_intime = df_la_calendar_no_nan.loc[df_la_calendar_no_nan.available == \"t\" ,:]\\\n",
    "                                    .loc[(pd.to_datetime(df_la_calendar_no_nan[\"date\"])>=\"2020-01-01\")\\\n",
    "                                        &(pd.to_datetime(df_la_calendar_no_nan[\"date\"])<=\"2020-03-01\"),:].copy()"
   ]
  },
  {
   "cell_type": "code",
   "execution_count": 19,
   "metadata": {},
   "outputs": [],
   "source": [
    "df_la_intime[\"price_fixed\"] = df_la_intime.price.apply(lambda x : float(str(x).strip(\"$\").replace(\",\",\"\")))"
   ]
  },
  {
   "cell_type": "code",
   "execution_count": 20,
   "metadata": {},
   "outputs": [
    {
     "data": {
      "text/html": [
       "<div>\n",
       "<style scoped>\n",
       "    .dataframe tbody tr th:only-of-type {\n",
       "        vertical-align: middle;\n",
       "    }\n",
       "\n",
       "    .dataframe tbody tr th {\n",
       "        vertical-align: top;\n",
       "    }\n",
       "\n",
       "    .dataframe thead th {\n",
       "        text-align: right;\n",
       "    }\n",
       "</style>\n",
       "<table border=\"1\" class=\"dataframe\">\n",
       "  <thead>\n",
       "    <tr style=\"text-align: right;\">\n",
       "      <th></th>\n",
       "      <th>mean</th>\n",
       "    </tr>\n",
       "    <tr>\n",
       "      <th>listing_id</th>\n",
       "      <th></th>\n",
       "    </tr>\n",
       "  </thead>\n",
       "  <tbody>\n",
       "    <tr>\n",
       "      <td>2708</td>\n",
       "      <td>52.393443</td>\n",
       "    </tr>\n",
       "    <tr>\n",
       "      <td>2732</td>\n",
       "      <td>140.000000</td>\n",
       "    </tr>\n",
       "    <tr>\n",
       "      <td>5728</td>\n",
       "      <td>71.833333</td>\n",
       "    </tr>\n",
       "    <tr>\n",
       "      <td>5729</td>\n",
       "      <td>76.833333</td>\n",
       "    </tr>\n",
       "    <tr>\n",
       "      <td>5843</td>\n",
       "      <td>129.107143</td>\n",
       "    </tr>\n",
       "    <tr>\n",
       "      <td>...</td>\n",
       "      <td>...</td>\n",
       "    </tr>\n",
       "    <tr>\n",
       "      <td>38603247</td>\n",
       "      <td>60.000000</td>\n",
       "    </tr>\n",
       "    <tr>\n",
       "      <td>38603385</td>\n",
       "      <td>69.491803</td>\n",
       "    </tr>\n",
       "    <tr>\n",
       "      <td>38603626</td>\n",
       "      <td>90.032787</td>\n",
       "    </tr>\n",
       "    <tr>\n",
       "      <td>38603645</td>\n",
       "      <td>69.000000</td>\n",
       "    </tr>\n",
       "    <tr>\n",
       "      <td>38604183</td>\n",
       "      <td>105.000000</td>\n",
       "    </tr>\n",
       "  </tbody>\n",
       "</table>\n",
       "<p>25777 rows × 1 columns</p>\n",
       "</div>"
      ],
      "text/plain": [
       "                  mean\n",
       "listing_id            \n",
       "2708         52.393443\n",
       "2732        140.000000\n",
       "5728         71.833333\n",
       "5729         76.833333\n",
       "5843        129.107143\n",
       "...                ...\n",
       "38603247     60.000000\n",
       "38603385     69.491803\n",
       "38603626     90.032787\n",
       "38603645     69.000000\n",
       "38604183    105.000000\n",
       "\n",
       "[25777 rows x 1 columns]"
      ]
     },
     "execution_count": 20,
     "metadata": {},
     "output_type": "execute_result"
    }
   ],
   "source": [
    "import numpy as np\n",
    "\n",
    "df_avgprice = df_la_intime.groupby(by=[\"listing_id\"])[\"price_fixed\"].agg([np.mean])\n",
    "df_avgprice"
   ]
  },
  {
   "cell_type": "code",
   "execution_count": 21,
   "metadata": {},
   "outputs": [
    {
     "data": {
      "text/plain": [
       "mean    254.778227\n",
       "std     684.755050\n",
       "Name: mean, dtype: float64"
      ]
     },
     "execution_count": 21,
     "metadata": {},
     "output_type": "execute_result"
    }
   ],
   "source": [
    "df_avgprice[\"mean\"].agg([np.mean,np.std])"
   ]
  },
  {
   "cell_type": "markdown",
   "metadata": {},
   "source": [
    "### Question 7: For reviews that are written in Jan, 2016, what are the most popular ten words except stopping words? What about reviews written in March, 2017 and April, 2018?\n",
    "**Hint**: You need to use NTLK stopping words to find the stopping words in Python. You also need to remove punctuation and numbers\n",
    "\n",
    "**Question 7 Answer:**\n",
    "\n",
    "The most popular ten words in the three period are showed as the table below"
   ]
  },
  {
   "cell_type": "code",
   "execution_count": 24,
   "metadata": {},
   "outputs": [],
   "source": [
    "# You need to provide the code to answer the previous quesiton\n",
    "df_la_reviews = pd.read_csv('./reviews.csv.gz',compression='gzip')"
   ]
  },
  {
   "cell_type": "code",
   "execution_count": 116,
   "metadata": {},
   "outputs": [],
   "source": [
    "df_la_reviews_in_Jan_2016 = df_la_reviews.loc[(pd.to_datetime(df_la_reviews[\"date\"])>=\"2016-01-01\")\\\n",
    "                                             &(pd.to_datetime(df_la_reviews[\"date\"])<=\"2016-01-31\"),:].copy()"
   ]
  },
  {
   "cell_type": "code",
   "execution_count": 125,
   "metadata": {},
   "outputs": [],
   "source": [
    "import string\n",
    "from nltk.corpus import stopwords\n",
    "from nltk.tokenize import word_tokenize\n",
    "\n",
    "all_words_in_Jan_2016 = {}\n",
    "for line in df_la_reviews_in_Jan_2016.comments:\n",
    "    word_tokens = word_tokenize(line)\n",
    "    word_tokens = [c.lower() for c in word_tokens]\n",
    "    filtered_sentence = [w for w in word_tokens if not w in stop_words and not w in \"'s\"]\n",
    "    filtered_sentence = [''.join(c for c in s if c not in string.punctuation) for s in filtered_sentence]\n",
    "    filtered_sentence = [s for s in filtered_sentence if s]\n",
    "    for word in filtered_sentence:\n",
    "        if word in all_words_in_Jan_2016:\n",
    "            all_words_in_Jan_2016[word] += 1\n",
    "        else:\n",
    "            all_words_in_Jan_2016[word] = 1"
   ]
  },
  {
   "cell_type": "code",
   "execution_count": 126,
   "metadata": {},
   "outputs": [
    {
     "data": {
      "text/plain": [
       "[('great', 5437),\n",
       " ('stay', 4708),\n",
       " ('place', 4331),\n",
       " ('clean', 2760),\n",
       " ('location', 2758),\n",
       " ('house', 2688),\n",
       " ('us', 2649),\n",
       " ('would', 2505),\n",
       " ('nice', 2432),\n",
       " ('host', 2378)]"
      ]
     },
     "execution_count": 126,
     "metadata": {},
     "output_type": "execute_result"
    }
   ],
   "source": [
    "sorted(all_words_in_Jan_2016.items(), key=lambda x: x[1] , reverse= True)[:10]"
   ]
  },
  {
   "cell_type": "code",
   "execution_count": 138,
   "metadata": {},
   "outputs": [],
   "source": [
    "df_la_reviews_in_M_2017 = df_la_reviews.loc[(pd.to_datetime(df_la_reviews[\"date\"])>=\"2017-03-01\")\\\n",
    "                                           &(pd.to_datetime(df_la_reviews[\"date\"])<=\"2017-03-31\"),:].copy()"
   ]
  },
  {
   "cell_type": "code",
   "execution_count": 139,
   "metadata": {},
   "outputs": [],
   "source": [
    "df_la_reviews_in_M_2017_2 = df_la_reviews_in_M_2017.loc[df_la_reviews_in_M_2017.comments.isna() != 1,:]"
   ]
  },
  {
   "cell_type": "code",
   "execution_count": 140,
   "metadata": {},
   "outputs": [
    {
     "data": {
      "text/plain": [
       "[('great', 12288),\n",
       " ('place', 11589),\n",
       " ('stay', 9524),\n",
       " ('location', 5951),\n",
       " ('clean', 5505),\n",
       " ('would', 4703),\n",
       " ('nice', 4580),\n",
       " ('host', 4513),\n",
       " ('house', 3816),\n",
       " ('comfortable', 3812)]"
      ]
     },
     "execution_count": 140,
     "metadata": {},
     "output_type": "execute_result"
    }
   ],
   "source": [
    "import string\n",
    "from nltk.corpus import stopwords\n",
    "from nltk.tokenize import word_tokenize\n",
    "\n",
    "all_words_in_M_2017 = {}\n",
    "for line in df_la_reviews_in_M_2017_2.comments:\n",
    "    word_tokens = word_tokenize(line)\n",
    "    word_tokens = [c.lower() for c in word_tokens]\n",
    "    filtered_sentence = [w for w in word_tokens if not w in stop_words and not w in \"'s\"]\n",
    "    filtered_sentence = [''.join(c for c in s if c not in string.punctuation) for s in filtered_sentence]\n",
    "    filtered_sentence = [s for s in filtered_sentence if s]\n",
    "    for word in filtered_sentence:\n",
    "        if word in all_words_in_M_2017:\n",
    "            all_words_in_M_2017[word] += 1\n",
    "        else:\n",
    "            all_words_in_M_2017[word] = 1\n",
    "\n",
    "sorted(all_words_in_M_2017.items(), key=lambda x: x[1] , reverse= True)[:10]"
   ]
  },
  {
   "cell_type": "code",
   "execution_count": 141,
   "metadata": {},
   "outputs": [],
   "source": [
    "df_la_reviews_in_Apr_2018 = df_la_reviews.loc[(pd.to_datetime(df_la_reviews[\"date\"])>=\"2018-04-01\")\\\n",
    "                                             &(pd.to_datetime(df_la_reviews[\"date\"])<=\"2018-04-30\"),:].copy()"
   ]
  },
  {
   "cell_type": "code",
   "execution_count": 143,
   "metadata": {},
   "outputs": [],
   "source": [
    "df_la_reviews_in_Apr_2018_2 = df_la_reviews_in_Apr_2018.loc[df_la_reviews_in_Apr_2018.comments.isna() != 1,:]"
   ]
  },
  {
   "cell_type": "code",
   "execution_count": 147,
   "metadata": {},
   "outputs": [
    {
     "data": {
      "text/plain": [
       "[('great', 18966),\n",
       " ('place', 18755),\n",
       " ('stay', 14831),\n",
       " ('location', 10124),\n",
       " ('clean', 9134),\n",
       " ('would', 7537),\n",
       " ('host', 6920),\n",
       " ('nice', 6849),\n",
       " ('la', 5651),\n",
       " ('house', 5587)]"
      ]
     },
     "execution_count": 147,
     "metadata": {},
     "output_type": "execute_result"
    }
   ],
   "source": [
    "import string\n",
    "from nltk.corpus import stopwords\n",
    "from nltk.tokenize import word_tokenize\n",
    "\n",
    "all_words_in_Apr_2018 = {}\n",
    "for line in df_la_reviews_in_Apr_2018_2.comments:\n",
    "    word_tokens = word_tokenize(line)\n",
    "    word_tokens = [c.lower() for c in word_tokens]\n",
    "    filtered_sentence = [w for w in word_tokens if not w in stop_words and not w in \"'s\"]\n",
    "    filtered_sentence = [''.join(c for c in s if c not in string.punctuation and not c.isalpha() == 0) for s in filtered_sentence]\n",
    "    filtered_sentence = [s for s in filtered_sentence if s]\n",
    "    for word in filtered_sentence:\n",
    "        if word in all_words_in_Apr_2018:\n",
    "            all_words_in_Apr_2018[word] += 1\n",
    "        else:\n",
    "            all_words_in_Apr_2018[word] = 1\n",
    "\n",
    "sorted(all_words_in_Apr_2018.items(), key=lambda x: x[1] , reverse= True)[:10]"
   ]
  },
  {
   "cell_type": "markdown",
   "metadata": {},
   "source": [
    "### Question 8: Which five zipcode has the highest average listing price and has at least 30 listings (again only considering available dates) between 2020-01-01 to 2020-02-01 (inclusive)? What are these listing prices? What are the number of active listings and number of hosts in these top five zipcodes (a listing is active if it has at least one available date in the calendar data)?\n",
    "\n",
    "**Question 8 Answer:**\n",
    "\n",
    "The top five zipcodes are 90210, 90077, 90265, 90069 and 91436. The price, active listings and number of hosts of those top five zipcodes are showed in the table below"
   ]
  },
  {
   "cell_type": "code",
   "execution_count": 38,
   "metadata": {},
   "outputs": [],
   "source": [
    "# You need to provide the code to answer the previous quesiton\n",
    "import pandas as pd\n",
    "from pandasql import sqldf\n",
    "\n",
    "df_la_calendar_Jan_2020 = df_la_calendar_no_nan.loc[df_la_calendar_no_nan.available == \"t\" ,:]\\\n",
    "                                               .loc[(pd.to_datetime(df_la_calendar_no_nan[\"date\"])>=\"2020-01-01\")\\\n",
    "                                                   &(pd.to_datetime(df_la_calendar_no_nan[\"date\"])<=\"2020-02-01\"),:].copy()\n",
    "\n",
    "df_la_calendar_Jan_2020[\"price_fixed\"] = df_la_calendar_Jan_2020.price.apply(lambda x : float(str(x).strip(\"$\").replace(\",\",\"\")))\n",
    "df_calendar_zipcode = sqldf(\"SELECT A.*, B.zipcode, B.host_id \\\n",
    "                             FROM df_la_calendar_Jan_2020 AS A\\\n",
    "                             LEFT JOIN df_la AS B ON A.listing_id = B.id\")"
   ]
  },
  {
   "cell_type": "code",
   "execution_count": 40,
   "metadata": {},
   "outputs": [],
   "source": [
    "#clean zipcode\n",
    "import re\n",
    "df_calendar_zipcode[\"zipcode_fixed\"] = df_calendar_zipcode.zipcode.apply(lambda x : re.sub(\"[^0-9]\", \"\", str(x)))"
   ]
  },
  {
   "cell_type": "code",
   "execution_count": 42,
   "metadata": {},
   "outputs": [],
   "source": [
    "df_calendar_zipcode_listavgprice = sqldf(\"SELECT listing_id, avg(price_fixed) as list_avgp, zipcode_fixed, host_id\\\n",
    "                                          FROM df_calendar_zipcode\\\n",
    "                                          GROUP BY listing_id\")"
   ]
  },
  {
   "cell_type": "code",
   "execution_count": 46,
   "metadata": {},
   "outputs": [],
   "source": [
    "top_5_zipcode = sqldf(\"SELECT zipcode_fixed, avg(list_avgp) AS avg_price, count(listing_id) AS id_count, count(distinct host_id) AS host_id_count\\\n",
    "                       FROM df_calendar_zipcode_listavgprice\\\n",
    "                       GROUP BY zipcode_fixed\\\n",
    "                       HAVING id_count >= 30\\\n",
    "                       ORDER BY avg_price desc\\\n",
    "                       LIMIT 5\")"
   ]
  },
  {
   "cell_type": "code",
   "execution_count": 47,
   "metadata": {},
   "outputs": [
    {
     "data": {
      "text/html": [
       "<div>\n",
       "<style scoped>\n",
       "    .dataframe tbody tr th:only-of-type {\n",
       "        vertical-align: middle;\n",
       "    }\n",
       "\n",
       "    .dataframe tbody tr th {\n",
       "        vertical-align: top;\n",
       "    }\n",
       "\n",
       "    .dataframe thead th {\n",
       "        text-align: right;\n",
       "    }\n",
       "</style>\n",
       "<table border=\"1\" class=\"dataframe\">\n",
       "  <thead>\n",
       "    <tr style=\"text-align: right;\">\n",
       "      <th></th>\n",
       "      <th>zipcode_fixed</th>\n",
       "      <th>avg_price</th>\n",
       "      <th>id_count</th>\n",
       "      <th>host_id_count</th>\n",
       "    </tr>\n",
       "  </thead>\n",
       "  <tbody>\n",
       "    <tr>\n",
       "      <td>0</td>\n",
       "      <td>90210</td>\n",
       "      <td>1926.469725</td>\n",
       "      <td>278</td>\n",
       "      <td>173</td>\n",
       "    </tr>\n",
       "    <tr>\n",
       "      <td>1</td>\n",
       "      <td>90077</td>\n",
       "      <td>1832.004457</td>\n",
       "      <td>74</td>\n",
       "      <td>48</td>\n",
       "    </tr>\n",
       "    <tr>\n",
       "      <td>2</td>\n",
       "      <td>90265</td>\n",
       "      <td>1547.648483</td>\n",
       "      <td>329</td>\n",
       "      <td>221</td>\n",
       "    </tr>\n",
       "    <tr>\n",
       "      <td>3</td>\n",
       "      <td>90069</td>\n",
       "      <td>949.920967</td>\n",
       "      <td>426</td>\n",
       "      <td>306</td>\n",
       "    </tr>\n",
       "    <tr>\n",
       "      <td>4</td>\n",
       "      <td>91436</td>\n",
       "      <td>639.542918</td>\n",
       "      <td>40</td>\n",
       "      <td>33</td>\n",
       "    </tr>\n",
       "  </tbody>\n",
       "</table>\n",
       "</div>"
      ],
      "text/plain": [
       "  zipcode_fixed    avg_price  id_count  host_id_count\n",
       "0         90210  1926.469725       278            173\n",
       "1         90077  1832.004457        74             48\n",
       "2         90265  1547.648483       329            221\n",
       "3         90069   949.920967       426            306\n",
       "4         91436   639.542918        40             33"
      ]
     },
     "execution_count": 47,
     "metadata": {},
     "output_type": "execute_result"
    }
   ],
   "source": [
    "top_5_zipcode"
   ]
  },
  {
   "cell_type": "markdown",
   "metadata": {},
   "source": [
    "### Question 9: Focusing on the data from 2020-01-01 to 2020-04-01 (inclusive), what are five zipcodes that have at least 30 listings and have the largest absolute difference between the average prices on weekends versus the average prices on weekdays? (Weekends = Saturday and Sunday). Please give the zipcodes as well as the listing prices\n",
    "**Question 9 Answer:**\n",
    "\n",
    "#Question 1, the top five zipcode is 91384, 90265, 90210, 91325 and 90293, which has differences is 22.547185, 20.103059, 10.723267, 9.428009 and 8.973894 respectively. \n",
    "#The average weekends price and average weekdays of each zipcode is shown below. \n"
   ]
  },
  {
   "cell_type": "code",
   "execution_count": 56,
   "metadata": {},
   "outputs": [],
   "source": [
    "# You need to provide the code to answer the previous quesiton\n",
    "#take out data\n",
    "df_la_calendar_Jan_to_Mar_2020 = df_la_calendar_no_nan.loc[(pd.to_datetime(df_la_calendar_no_nan[\"date\"])>=\"2020-01-01\")\\\n",
    "                                                          &(pd.to_datetime(df_la_calendar_no_nan[\"date\"])<=\"2020-04-01\"),:].copy()\n",
    "#attach price_fixed\n",
    "df_la_calendar_Jan_to_Mar_2020[\"price_fixed\"] = df_la_calendar_Jan_to_Mar_2020.price.apply(lambda x : float(str(x).strip(\"$\").replace(\",\",\"\")))\n",
    "#attach with zipcode\n",
    "df_calendar_zipcode_for_Jan_to_Mar_2020 = sqldf(\"SELECT A.*, B.zipcode \\\n",
    "                                                 FROM df_la_calendar_Jan_to_Mar_2020 AS A\\\n",
    "                                                 LEFT JOIN df_la AS B ON A.listing_id = B.id\")"
   ]
  },
  {
   "cell_type": "code",
   "execution_count": 57,
   "metadata": {},
   "outputs": [],
   "source": [
    "#clean zipcode\n",
    "import re\n",
    "df_calendar_zipcode_for_Jan_to_Mar_2020[\"zipcode_fixed\"] = df_calendar_zipcode_for_Jan_to_Mar_2020.zipcode.apply(lambda x : re.sub(\"[^0-9]\", \"\", str(x)))\n",
    "#df_calendar_zipcode_for_Jan_to_Mar_2020.head()"
   ]
  },
  {
   "cell_type": "code",
   "execution_count": 58,
   "metadata": {},
   "outputs": [],
   "source": [
    "#add weekend column\n",
    "df_calendar_zipcode_for_Jan_to_Mar_2020['Weekend'] = ((pd.DatetimeIndex(df_calendar_zipcode_for_Jan_to_Mar_2020.date).dayofweek) // 5 == 1)"
   ]
  },
  {
   "cell_type": "code",
   "execution_count": 87,
   "metadata": {},
   "outputs": [],
   "source": [
    "more_30_zipcode =sqldf(\"Select zipcode_fixed, count(distinct listing_id) AS count_list\\\n",
    "                               From df_calendar_zipcode_for_Jan_to_Mar_2020\\\n",
    "                               GROUP BY zipcode_fixed\\\n",
    "                               HAVING count_list >= 30\")"
   ]
  },
  {
   "cell_type": "code",
   "execution_count": 61,
   "metadata": {},
   "outputs": [],
   "source": [
    "zipcode_week_price = sqldf(\"Select zipcode_fixed, avg(price_fixed) AS avg_week_price\\\n",
    "                            From df_calendar_zipcode_for_Jan_to_Mar_2020\\\n",
    "                            WHERE Weekend == False\\\n",
    "                            GROUP BY zipcode_fixed\")"
   ]
  },
  {
   "cell_type": "code",
   "execution_count": 62,
   "metadata": {},
   "outputs": [],
   "source": [
    "zipcode_weekend_price = sqldf(\"Select zipcode_fixed, avg(price_fixed) AS avg_weekend_price\\\n",
    "                               From df_calendar_zipcode_for_Jan_to_Mar_2020\\\n",
    "                               WHERE Weekend == True\\\n",
    "                               GROUP BY zipcode_fixed\")"
   ]
  },
  {
   "cell_type": "code",
   "execution_count": 88,
   "metadata": {},
   "outputs": [],
   "source": [
    "top5_diff = sqldf(\"Select A.zipcode_fixed, B.avg_week_price, C.avg_weekend_price, ABS(B.avg_week_price - C.avg_weekend_price) AS price_diff\\\n",
    "                   From more_30_zipcode AS A\\\n",
    "                   JOIN zipcode_week_price AS B ON A.zipcode_fixed = B.zipcode_fixed\\\n",
    "                   JOIN zipcode_weekend_price AS C ON A.zipcode_fixed = C.zipcode_fixed\\\n",
    "                   ORDER BY price_diff desc\\\n",
    "                   LIMIT 5\")"
   ]
  },
  {
   "cell_type": "code",
   "execution_count": 89,
   "metadata": {},
   "outputs": [
    {
     "data": {
      "text/html": [
       "<div>\n",
       "<style scoped>\n",
       "    .dataframe tbody tr th:only-of-type {\n",
       "        vertical-align: middle;\n",
       "    }\n",
       "\n",
       "    .dataframe tbody tr th {\n",
       "        vertical-align: top;\n",
       "    }\n",
       "\n",
       "    .dataframe thead th {\n",
       "        text-align: right;\n",
       "    }\n",
       "</style>\n",
       "<table border=\"1\" class=\"dataframe\">\n",
       "  <thead>\n",
       "    <tr style=\"text-align: right;\">\n",
       "      <th></th>\n",
       "      <th>zipcode_fixed</th>\n",
       "      <th>avg_week_price</th>\n",
       "      <th>avg_weekend_price</th>\n",
       "      <th>price_diff</th>\n",
       "    </tr>\n",
       "  </thead>\n",
       "  <tbody>\n",
       "    <tr>\n",
       "      <td>0</td>\n",
       "      <td>91384</td>\n",
       "      <td>138.430670</td>\n",
       "      <td>160.977855</td>\n",
       "      <td>22.547185</td>\n",
       "    </tr>\n",
       "    <tr>\n",
       "      <td>1</td>\n",
       "      <td>90265</td>\n",
       "      <td>1397.389489</td>\n",
       "      <td>1417.492548</td>\n",
       "      <td>20.103059</td>\n",
       "    </tr>\n",
       "    <tr>\n",
       "      <td>2</td>\n",
       "      <td>90210</td>\n",
       "      <td>1620.193908</td>\n",
       "      <td>1630.917175</td>\n",
       "      <td>10.723267</td>\n",
       "    </tr>\n",
       "    <tr>\n",
       "      <td>3</td>\n",
       "      <td>91325</td>\n",
       "      <td>220.009608</td>\n",
       "      <td>229.437617</td>\n",
       "      <td>9.428009</td>\n",
       "    </tr>\n",
       "    <tr>\n",
       "      <td>4</td>\n",
       "      <td>90293</td>\n",
       "      <td>246.446374</td>\n",
       "      <td>255.420268</td>\n",
       "      <td>8.973894</td>\n",
       "    </tr>\n",
       "  </tbody>\n",
       "</table>\n",
       "</div>"
      ],
      "text/plain": [
       "  zipcode_fixed  avg_week_price  avg_weekend_price  price_diff\n",
       "0         91384      138.430670         160.977855   22.547185\n",
       "1         90265     1397.389489        1417.492548   20.103059\n",
       "2         90210     1620.193908        1630.917175   10.723267\n",
       "3         91325      220.009608         229.437617    9.428009\n",
       "4         90293      246.446374         255.420268    8.973894"
      ]
     },
     "execution_count": 89,
     "metadata": {},
     "output_type": "execute_result"
    }
   ],
   "source": [
    "top5_diff"
   ]
  },
  {
   "cell_type": "markdown",
   "metadata": {},
   "source": [
    "### Question 10: What is the average and standard deviation of the daily total capacity at Airbnb Los Angeles from 2020-01-01 to 2020-04-01? The daily total capacity in a day is the number of beds that are available in that given date. What is the average and standard deviation of the daily price per bed at Airbnb Los Angeles from 2020-01-01 to 2020-04-01?\n",
    "**Question 10 Answer:**\n",
    "\n",
    "#Q1: The average and standard deviation of the daily total capacity t Airbnb Los Angeles from 2020-01-01 to 2020-04-01  is 46995.228261 and 4980.641316 respectively.\n",
    "#Q2: The average and standard deviation of the daily price per bed t Airbnb Los Angeles from 2020-01-01 to 2020-04-01 is 105.600885 and 3.056515 respectively.\n"
   ]
  },
  {
   "cell_type": "code",
   "execution_count": 99,
   "metadata": {},
   "outputs": [],
   "source": [
    "df_la_calendar_Jan_to_Mar_2020_2 = df_la_calendar.loc[(pd.to_datetime(df_la_calendar[\"date\"])>=\"2020-01-01\")\\\n",
    "                                                     &(pd.to_datetime(df_la_calendar[\"date\"])<=\"2020-04-01\"),:].copy()"
   ]
  },
  {
   "cell_type": "code",
   "execution_count": 100,
   "metadata": {},
   "outputs": [],
   "source": [
    "df_calendar_beds_for_Jan_to_Mar_2020_2 = sqldf(\"SELECT A.*, B.beds \\\n",
    "                                              FROM df_la_calendar_Jan_to_Mar_2020_2 AS A\\\n",
    "                                              LEFT JOIN df_la AS B ON A.listing_id = B.id\")"
   ]
  },
  {
   "cell_type": "code",
   "execution_count": 103,
   "metadata": {},
   "outputs": [
    {
     "data": {
      "text/plain": [
       "mean    46995.228261\n",
       "std      4980.641316\n",
       "Name: beds, dtype: float64"
      ]
     },
     "execution_count": 103,
     "metadata": {},
     "output_type": "execute_result"
    }
   ],
   "source": [
    "df_total_capacity_2 = df_calendar_beds_for_Jan_to_Mar_2020_2.loc[df_calendar_beds_for_Jan_to_Mar_2020_2.available == \"t\",:]\\\n",
    "                                                            .groupby(by=[\"date\"])[\"beds\"].sum()\n",
    "\n",
    "df_total_capacity_2.agg([np.mean, np.std])"
   ]
  },
  {
   "cell_type": "code",
   "execution_count": 114,
   "metadata": {},
   "outputs": [
    {
     "data": {
      "text/plain": [
       "mean    105.600885\n",
       "std       3.056515\n",
       "Name: price_per_bed, dtype: float64"
      ]
     },
     "execution_count": 114,
     "metadata": {},
     "output_type": "execute_result"
    }
   ],
   "source": [
    "df_calendar_beds_for_Jan_to_Mar_2020_3 = df_calendar_beds_for_Jan_to_Mar_2020_2.dropna(axis=0).copy()\n",
    "df_calendar_beds_for_Jan_to_Mar_2020_3[\"price_fixed\"] = df_calendar_beds_for_Jan_to_Mar_2020_3.price.apply(lambda x : float(str(x).strip(\"$\").replace(\",\",\"\")))\n",
    "#df_calendar_beds_for_Jan_to_Mar_2020_3\n",
    "df_price_per_bed = df_calendar_beds_for_Jan_to_Mar_2020_3.loc[df_calendar_beds_for_Jan_to_Mar_2020_3.beds != 0].groupby(by=[\"date\"])[\"price_fixed\",\"beds\"].sum()\n",
    "df_price_per_bed[\"price_per_bed\"] = df_price_per_bed[\"price_fixed\"] /  df_price_per_bed[\"beds\"]\n",
    "df_price_per_bed[\"price_per_bed\"].agg([np.mean, np.std])"
   ]
  },
  {
   "cell_type": "markdown",
   "metadata": {},
   "source": [
    "## Part 2 (15 Points):\n",
    "\n",
    "In this part, you need to find **5** interesting business questions out of the datasets. You then need to write Python code to answer the questions. Last, you need to write a 200-word summary of your answers and business insights you get from ansewr these 5 questions baed on your code. You will be evaluated based on the following criterion:\n",
    "\n",
    "1. You need to ask three business-relevant questions (2 points)\n",
    "2. You need to answer these three questions using Python and the datasets (1 points)\n",
    "3. You have at least **5** graphs to visualize your insights (2 points)\n",
    "4. Your executive summary of your answers are well-written and make sense (5 points)\n",
    "5. Your business insights are very interesting and the report is creative (5 points)\n"
   ]
  },
  {
   "cell_type": "markdown",
   "metadata": {},
   "source": [
    "**(You need to use this cell to write your 5 questions)**\n",
    "\n",
    "**Question 1:** In listing dataframe, which factors are highly related to the review_score_rating?\n",
    "\n",
    "**Question 2:** How's the lense of description affects the review_score_rating?\n",
    "\n",
    "**Question 3:** How's response rate affects the review_score_rating?\n",
    "\n",
    "**Question 4:** How's the lists that host hold affects the review_score_rating?\n",
    "\n",
    "**Question 5:** How's the amount of amenities affects the review_score_rating?\n"
   ]
  },
  {
   "cell_type": "code",
   "execution_count": 60,
   "metadata": {},
   "outputs": [
    {
     "name": "stdout",
     "output_type": "stream",
     "text": [
      "Started\n",
      "Training data: dataframe: (45053, 97),target: 45053\n",
      "Will train XGB for 100 rounds, RandomSeed: 12357\n",
      "[0]\ttrain-rmse:1.01406\teval-rmse:1.01163\n",
      "[1]\ttrain-rmse:0.919948\teval-rmse:0.92018\n",
      "[2]\ttrain-rmse:0.835635\teval-rmse:0.839013\n",
      "[3]\ttrain-rmse:0.760509\teval-rmse:0.767057\n",
      "[4]\ttrain-rmse:0.693333\teval-rmse:0.703087\n",
      "[5]\ttrain-rmse:0.633473\teval-rmse:0.646861\n",
      "[6]\ttrain-rmse:0.580093\teval-rmse:0.597001\n",
      "[7]\ttrain-rmse:0.532848\teval-rmse:0.553634\n",
      "[8]\ttrain-rmse:0.490998\teval-rmse:0.516311\n",
      "[9]\ttrain-rmse:0.453977\teval-rmse:0.483852\n",
      "[10]\ttrain-rmse:0.421138\teval-rmse:0.455309\n",
      "[11]\ttrain-rmse:0.392379\teval-rmse:0.431322\n",
      "[12]\ttrain-rmse:0.36679\teval-rmse:0.410545\n",
      "[13]\ttrain-rmse:0.343997\teval-rmse:0.393033\n",
      "[14]\ttrain-rmse:0.324116\teval-rmse:0.378401\n",
      "[15]\ttrain-rmse:0.306969\teval-rmse:0.366204\n",
      "[16]\ttrain-rmse:0.291698\teval-rmse:0.355739\n",
      "[17]\ttrain-rmse:0.278461\teval-rmse:0.346894\n",
      "[18]\ttrain-rmse:0.266877\teval-rmse:0.339827\n",
      "[19]\ttrain-rmse:0.257474\teval-rmse:0.333988\n",
      "[20]\ttrain-rmse:0.248838\teval-rmse:0.329221\n",
      "[21]\ttrain-rmse:0.240942\teval-rmse:0.325335\n",
      "[22]\ttrain-rmse:0.235196\teval-rmse:0.322359\n",
      "[23]\ttrain-rmse:0.228867\teval-rmse:0.319724\n",
      "[24]\ttrain-rmse:0.224629\teval-rmse:0.317639\n",
      "[25]\ttrain-rmse:0.220077\teval-rmse:0.316312\n",
      "[26]\ttrain-rmse:0.215969\teval-rmse:0.314842\n",
      "[27]\ttrain-rmse:0.212157\teval-rmse:0.313517\n",
      "[28]\ttrain-rmse:0.20928\teval-rmse:0.312826\n",
      "[29]\ttrain-rmse:0.206108\teval-rmse:0.31208\n",
      "[30]\ttrain-rmse:0.203919\teval-rmse:0.311214\n",
      "[31]\ttrain-rmse:0.201946\teval-rmse:0.310901\n",
      "[32]\ttrain-rmse:0.200275\teval-rmse:0.310459\n",
      "[33]\ttrain-rmse:0.198518\teval-rmse:0.310036\n",
      "[34]\ttrain-rmse:0.196177\teval-rmse:0.309882\n",
      "[35]\ttrain-rmse:0.194731\teval-rmse:0.309746\n",
      "[36]\ttrain-rmse:0.192408\teval-rmse:0.309157\n",
      "[37]\ttrain-rmse:0.190899\teval-rmse:0.308915\n",
      "[38]\ttrain-rmse:0.189795\teval-rmse:0.308852\n",
      "[39]\ttrain-rmse:0.187655\teval-rmse:0.308924\n",
      "[40]\ttrain-rmse:0.185484\teval-rmse:0.309174\n",
      "[41]\ttrain-rmse:0.184\teval-rmse:0.309146\n",
      "[42]\ttrain-rmse:0.182585\teval-rmse:0.309031\n",
      "[43]\ttrain-rmse:0.181159\teval-rmse:0.308919\n",
      "[44]\ttrain-rmse:0.179917\teval-rmse:0.308854\n",
      "[45]\ttrain-rmse:0.178791\teval-rmse:0.30885\n",
      "[46]\ttrain-rmse:0.177479\teval-rmse:0.308755\n",
      "[47]\ttrain-rmse:0.175262\teval-rmse:0.30887\n",
      "[48]\ttrain-rmse:0.17332\teval-rmse:0.308847\n",
      "[49]\ttrain-rmse:0.172247\teval-rmse:0.308799\n",
      "[50]\ttrain-rmse:0.170703\teval-rmse:0.308891\n",
      "[51]\ttrain-rmse:0.169498\teval-rmse:0.308907\n",
      "[52]\ttrain-rmse:0.168548\teval-rmse:0.308862\n",
      "[53]\ttrain-rmse:0.167348\teval-rmse:0.30898\n",
      "[54]\ttrain-rmse:0.166359\teval-rmse:0.309085\n",
      "[55]\ttrain-rmse:0.164899\teval-rmse:0.309079\n",
      "[56]\ttrain-rmse:0.164068\teval-rmse:0.309086\n",
      "[57]\ttrain-rmse:0.163683\teval-rmse:0.309045\n",
      "[58]\ttrain-rmse:0.161917\teval-rmse:0.309477\n",
      "[59]\ttrain-rmse:0.161138\teval-rmse:0.309543\n",
      "[60]\ttrain-rmse:0.16045\teval-rmse:0.309678\n",
      "[61]\ttrain-rmse:0.159327\teval-rmse:0.309629\n",
      "[62]\ttrain-rmse:0.158369\teval-rmse:0.309784\n",
      "[63]\ttrain-rmse:0.15683\teval-rmse:0.309997\n",
      "[64]\ttrain-rmse:0.156338\teval-rmse:0.309969\n",
      "[65]\ttrain-rmse:0.1554\teval-rmse:0.309969\n",
      "[66]\ttrain-rmse:0.155149\teval-rmse:0.309981\n",
      "[67]\ttrain-rmse:0.154686\teval-rmse:0.309966\n",
      "[68]\ttrain-rmse:0.154311\teval-rmse:0.310011\n",
      "[69]\ttrain-rmse:0.15427\teval-rmse:0.310019\n",
      "[70]\ttrain-rmse:0.153944\teval-rmse:0.310007\n",
      "[71]\ttrain-rmse:0.152751\teval-rmse:0.309895\n",
      "[72]\ttrain-rmse:0.151948\teval-rmse:0.309993\n",
      "[73]\ttrain-rmse:0.15142\teval-rmse:0.309888\n",
      "[74]\ttrain-rmse:0.151057\teval-rmse:0.309897\n",
      "[75]\ttrain-rmse:0.150965\teval-rmse:0.309886\n",
      "[76]\ttrain-rmse:0.150537\teval-rmse:0.309965\n",
      "[77]\ttrain-rmse:0.149578\teval-rmse:0.309959\n",
      "[78]\ttrain-rmse:0.149102\teval-rmse:0.310039\n",
      "[79]\ttrain-rmse:0.149028\teval-rmse:0.310049\n",
      "[80]\ttrain-rmse:0.147864\teval-rmse:0.310204\n",
      "[81]\ttrain-rmse:0.147777\teval-rmse:0.31019\n",
      "[82]\ttrain-rmse:0.147105\teval-rmse:0.310087\n",
      "[83]\ttrain-rmse:0.146444\teval-rmse:0.310118\n",
      "[84]\ttrain-rmse:0.146016\teval-rmse:0.310105\n",
      "[85]\ttrain-rmse:0.145794\teval-rmse:0.310163\n",
      "[86]\ttrain-rmse:0.145262\teval-rmse:0.310126\n",
      "[87]\ttrain-rmse:0.145078\teval-rmse:0.310104\n",
      "[88]\ttrain-rmse:0.144885\teval-rmse:0.310127\n",
      "[89]\ttrain-rmse:0.144055\teval-rmse:0.310111\n",
      "[90]\ttrain-rmse:0.143975\teval-rmse:0.310128\n",
      "[91]\ttrain-rmse:0.14326\teval-rmse:0.310189\n",
      "[92]\ttrain-rmse:0.142644\teval-rmse:0.310162\n",
      "[93]\ttrain-rmse:0.142167\teval-rmse:0.310238\n",
      "[94]\ttrain-rmse:0.142086\teval-rmse:0.310262\n",
      "[95]\ttrain-rmse:0.141918\teval-rmse:0.310289\n",
      "[96]\ttrain-rmse:0.141617\teval-rmse:0.310296\n",
      "[97]\ttrain-rmse:0.141052\teval-rmse:0.310346\n",
      "[98]\ttrain-rmse:0.140855\teval-rmse:0.310355\n",
      "[99]\ttrain-rmse:0.140815\teval-rmse:0.310353\n",
      "Features importances...\n"
     ]
    },
    {
     "data": {
      "text/plain": [
       "<matplotlib.axes._subplots.AxesSubplot at 0x287b2911a58>"
      ]
     },
     "execution_count": 60,
     "metadata": {},
     "output_type": "execute_result"
    },
    {
     "data": {
      "image/png": "[encoded data removed]",
      "text/plain": [
       "<Figure size 720x720 with 1 Axes>"
      ]
     },
     "metadata": {
      "needs_background": "light"
     },
     "output_type": "display_data"
    }
   ],
   "source": [
    "# Your code to answer Question 1\n",
    "df_listings = df_la.copy()\n",
    "%matplotlib inline\n",
    "import xgboost as xgb\n",
    "from sklearn.model_selection import train_test_split\n",
    "import matplotlib.pyplot as plt\n",
    "df = pd.DataFrame()\n",
    "df[\"description\"] = df_listings[\"description\"].apply(lambda x : len(str(x)) if str(x) != \"nan\" else 0)\n",
    "df = pd.concat([df, pd.get_dummies(df_listings['host_response_time'], prefix = 'host_response_time')], axis = 1)\n",
    "df['host_response_rate'] = df_listings['host_response_rate'].fillna('0').apply(lambda x: int(x.strip(\"%\")))\n",
    "df = pd.concat([df, pd.get_dummies(df_listings['host_is_superhost'], prefix = 'host_is_superhost')], axis = 1)\n",
    "df = pd.concat([df, pd.get_dummies(df_listings['property_type'], prefix = 'property_type')], axis = 1)\n",
    "df = pd.concat([df, pd.get_dummies(df_listings['room_type'], prefix = 'room_type')], axis = 1)\n",
    "df = pd.concat([df, pd.get_dummies(df_listings['bed_type'], prefix = 'bed_type')], axis = 1)\n",
    "df['square_feet'] = df_listings['square_feet'].fillna(0)\n",
    "df['price'] = df_listings['price'].fillna(\"0\").apply(lambda x: float(str(x).strip('$').replace(\",\",\"\")))\n",
    "df['weekly_price'] = df_listings['weekly_price'].fillna(\"0\").apply(lambda x: float(str(x).strip('$').replace(\",\",\"\")))\n",
    "df['monthly_price'] = df_listings['monthly_price'].fillna(\"0\").apply(lambda x: float(str(x).strip('$').replace(\",\",\"\")))\n",
    "\n",
    "df['cleaning_fee'] = df_listings['cleaning_fee'].apply(lambda x:float(str(x).strip('$').replace(',','')))\n",
    "df['guests_included']=df_listings['guests_included']\n",
    "df['extra_people'] = df_listings['extra_people'].apply(lambda x:float(str(x).strip('$').replace(',','')))\n",
    "df = pd.concat([df, pd.get_dummies(df_listings['has_availability'], prefix = 'has_availability')], axis = 1)\n",
    "df['availability_30'] = df_listings['availability_30']\n",
    "df['availability_60'] = df_listings['availability_60']\n",
    "df['availability_90'] = df_listings['availability_90']\n",
    "df['availability_365'] = df_listings['availability_365']\n",
    "df['number_of_reviews']= df_listings['number_of_reviews']\n",
    "df['number_of_reviews_ltm']= df_listings['number_of_reviews_ltm']\n",
    "df['security_deposit']=df_listings['security_deposit'].apply(lambda x:float(str(x).strip('$').replace(',','')))\n",
    "df['amenities_amount']=df_listings.amenities.apply(lambda x: x.strip('}{').split(',')).apply(lambda x: len(x))\n",
    "\n",
    "df[\"requires_license\"] = df_listings[\"requires_license\"].map({\"t\":1, \"f\":0})\n",
    "df['instant_bookable'] = df_listings[\"instant_bookable\"].map({\"t\":1, \"f\":0})\n",
    "df['is_business_travel_ready'] = df_listings[\"instant_bookable\"].map({\"t\":1, \"f\":0})\n",
    "df_listings[\"host_verifications_fix\"] =df_listings[\"host_verifications\"].apply(lambda x : len(x.strip(\"][\").replace(\" \",\"\").split(\",\")))\n",
    "df[\"host_verifications\"] = df_listings[\"host_verifications_fix\"]\n",
    "df['require_guest_profile_picture'] = df_listings[\"requires_license\"].map({\"t\":1, \"f\":0})\n",
    "df['require_guest_phone_verification'] = df_listings[\"require_guest_phone_verification\"].map({\"t\":1, \"f\":0})\n",
    "df['calculated_host_listings_count'] = df_listings[\"calculated_host_listings_count\"]\n",
    "df['calculated_host_listings_count_entire_homes'] = df_listings[\"calculated_host_listings_count_entire_homes\"]\n",
    "df['calculated_host_listings_count_private_rooms'] = df_listings[\"calculated_host_listings_count_shared_rooms\"]\n",
    "df['reviews_per_month'] = df_listings[\"reviews_per_month\"].fillna(0)\n",
    "df = pd.concat([df, pd.get_dummies(df_listings['cancellation_policy'], prefix = 'cancellation_policy')], axis = 1)\n",
    "\n",
    "y = pd.DataFrame()\n",
    "y = df_listings['review_scores_rating'].apply(lambda x: 0 if str(x) == \"nan\" else x )\n",
    "\n",
    "from scipy.stats import zscore\n",
    "\n",
    "y = zscore(y)\n",
    "    \n",
    "print(\"Started\")\n",
    "RS = 12357\n",
    "np.random.seed(RS)\n",
    "ROUNDS = 100\n",
    "eta = 0.1\n",
    "max_depth = 10\n",
    "params = {}\n",
    "params['objective'] = 'reg:linear'\n",
    "params['eval_metric'] = 'rmse'\n",
    "params['eta'] = eta\n",
    "params['max_depth'] = max_depth\n",
    "params['silent'] = 1\n",
    "params['seed'] = RS\n",
    "feature_names = list(df.columns.values)\n",
    "\n",
    "def train_xgb(X, y, params):\n",
    "    print(\"Will train XGB for {} rounds, RandomSeed: {}\".format(ROUNDS, RS))\n",
    "    x, X_val, y_train, y_val = train_test_split(X, y, test_size=0.2, random_state=RS)\n",
    "    \n",
    "    xg_train = xgb.DMatrix(x, label=y_train)\n",
    "    xg_val = xgb.DMatrix(X_val, label=y_val)\n",
    "    \n",
    "    watchlist  = [(xg_train,'train'), (xg_val,'eval')]\n",
    "    return xgb.train(params, xg_train, ROUNDS, watchlist)\n",
    " \n",
    "print(\"Training data: dataframe: {},target: {}\".format(df.shape, len(y)))\n",
    "clr = train_xgb(df,y, params)\n",
    "\n",
    "print(\"Features importances...\")\n",
    "fig, ax = plt.subplots(1,1,figsize=(10,10))\n",
    "xgb.plot_importance(clr, max_num_features=20, ax=ax)\n",
    "\n"
   ]
  },
  {
   "cell_type": "markdown",
   "metadata": {},
   "source": [
    "As we can see in the feature importance chart, some factors like the length of description, number of reviews, host response rate significantly affects the reviews rating scores of an Airbnb listing. Among these factors, we decide to analyze four of them that surprise us the most and may have the greatest business values."
   ]
  },
  {
   "cell_type": "code",
   "execution_count": 72,
   "metadata": {},
   "outputs": [
    {
     "data": {
      "image/png": "[encoded data removed]",
      "text/plain": [
       "<Figure size 720x432 with 1 Axes>"
      ]
     },
     "execution_count": 72,
     "metadata": {},
     "output_type": "execute_result"
    }
   ],
   "source": [
    "# Your code to answer Question 2\n",
    "import matplotlib.pyplot as plt\n",
    "plt.style.use(\"ggplot\")\n",
    "fig,ax0=plt.subplots(figsize=(10,6))\n",
    "%matplotlib inline\n",
    "df_0 = pd.DataFrame(df['description'])\n",
    "df_0[\"score\"] = y\n",
    "df_1 = pd.DataFrame(df_0.groupby(by=\"description\").apply(lambda x: x['score'].mean()),columns=['score']).reset_index(drop=False)\n",
    "df_1[[\"description\",'score']].plot(kind=\"scatter\",x=\"description\",y='score',ax=ax0)\n",
    "ax.grid(True)\n",
    "fig\n"
   ]
  },
  {
   "cell_type": "markdown",
   "metadata": {},
   "source": [
    "From the scatter plot of description and review scores rating, we found out that as the length of the description goes up, which indicates the more detailed introduction of the listing, the review scores will get higher. We strongly recommend that the host should pay more effort into showing that they have a passion to run the lists."
   ]
  },
  {
   "cell_type": "code",
   "execution_count": 73,
   "metadata": {},
   "outputs": [
    {
     "data": {
      "image/png": "[encoded data removed]",
      "text/plain": [
       "<Figure size 720x432 with 1 Axes>"
      ]
     },
     "metadata": {
      "needs_background": "light"
     },
     "output_type": "display_data"
    }
   ],
   "source": [
    "# Your code to answer Question 3\n",
    "df_response_rate = pd.DataFrame()\n",
    "df_response_rate['score'] = y\n",
    "df_response_rate['response_rate'] = df['host_response_rate']\n",
    "def get_group(x):\n",
    "    if float(str(x).replace('%',''))<10 and float(str(x).replace('%',''))>0:\n",
    "        return 1\n",
    "    elif float(str(x).replace('%',''))<20 and float(str(x).replace('%',''))>=10:\n",
    "        return 2\n",
    "    elif float(str(x).replace('%',''))<30 and float(str(x).replace('%',''))>=20:\n",
    "        return 3\n",
    "    elif float(str(x).replace('%',''))<40 and float(str(x).replace('%',''))>=30:\n",
    "        return 4\n",
    "    elif float(str(x).replace('%',''))<50 and float(str(x).replace('%',''))>=40:\n",
    "        return 5\n",
    "    elif float(str(x).replace('%',''))<60 and float(str(x).replace('%',''))>=50:\n",
    "        return 6\n",
    "    elif float(str(x).replace('%',''))<70 and float(str(x).replace('%',''))>=60:\n",
    "        return 7\n",
    "    elif float(str(x).replace('%',''))<80 and float(str(x).replace('%',''))>=70:\n",
    "        return 8\n",
    "    elif float(str(x).replace('%',''))<90 and float(str(x).replace('%',''))>=80:\n",
    "        return 9\n",
    "    elif float(str(x).replace('%',''))<=100 and float(str(x).replace('%',''))>=90:\n",
    "        return 10\n",
    "df_response_rate.dropna(inplace = True)\n",
    "df_response_rate['group']= df_response_rate.response_rate.apply(get_group)\n",
    "df_plot = pd.DataFrame(df_response_rate.groupby(by = 'group').score.mean()).reset_index()\n",
    "fig,ax0=plt.subplots(figsize=(10,6))\n",
    "df_plot.plot(kind = 'line', x = 'group', y = 'score', ax = ax0)\n",
    "ax.grid(True)\n"
   ]
  },
  {
   "cell_type": "markdown",
   "metadata": {},
   "source": [
    "We divide the listings into 10 groups based on their hosts' response rate. For example, the first group contains the listings that have host response rates below 10%, the second group contains the listing that have host reponse rates between 10% and 20% and so on. From the chart we can easily see that the review rating scores increase with the hosts' response rate, which indicates that in order to get high review scores, a host should maintain a high response rate. "
   ]
  },
  {
   "cell_type": "code",
   "execution_count": 76,
   "metadata": {},
   "outputs": [
    {
     "name": "stdout",
     "output_type": "stream",
     "text": [
      "According to the plot, we found that the hosts who own about 0 to 25 got the highest score. As the nubmer of list that host process rise,       the avreage review score decreases. This might because that the hosts who have too many lists don't have too much time to take care every        list that they process. Therefore, we recommend that the host should not hold too many lists.\n"
     ]
    },
    {
     "data": {
      "image/png": "[encoded data removed]",
      "text/plain": [
       "<Figure size 720x432 with 1 Axes>"
      ]
     },
     "metadata": {
      "needs_background": "light"
     },
     "output_type": "display_data"
    }
   ],
   "source": [
    "# Your code to answer Question 4\n",
    "from scipy.stats import zscore\n",
    "z = zscore(y)\n",
    "\n",
    "import pandas as pd\n",
    "import matplotlib.pyplot as plt\n",
    "\n",
    "%matplotlib inline\n",
    "\n",
    "df_plot = df.copy()\n",
    "df_plot[\"stand_score\"] = z\n",
    "df_plot[\"ori_score\"] = y\n",
    "\n",
    "#df_plot[\"calculated_host_listings_count\"]= df_plot[\"calculated_host_listings_count\"].apply(lambda x: 5 if x>4 else x )\n",
    "df_plot2 = pd.DataFrame(df_plot.groupby(by = [\"calculated_host_listings_count\"]).stand_score.mean().reset_index())\n",
    "#df_plot2\n",
    "\n",
    "\n",
    "\n",
    "fig,ax0=plt.subplots(figsize=(10,6))\n",
    "df_plot2[[\"calculated_host_listings_count\",\"stand_score\"]].plot(kind = \"scatter\", x= \"calculated_host_listings_count\", y= \"stand_score\", ax=ax0 )\n",
    "ax.grid(True)"
   ]
  },
  {
   "cell_type": "markdown",
   "metadata": {},
   "source": [
    "According to the plot, we found that the hosts who own about 0 to 25 got the highest score. As the nubmer of list that host process rise, the avreage review score decreases. This might because that the hosts who have too many lists don't have too much time to take care every list that they process. Therefore, we recommend that the host should not hold too many lists."
   ]
  },
  {
   "cell_type": "code",
   "execution_count": 69,
   "metadata": {},
   "outputs": [
    {
     "data": {
      "image/png": "[encoded data removed]",
      "text/plain": [
       "<Figure size 720x432 with 1 Axes>"
      ]
     },
     "metadata": {
      "needs_background": "light"
     },
     "output_type": "display_data"
    }
   ],
   "source": [
    "# Your code to answer Question 5 \n",
    "df_amenities = pd.DataFrame()\n",
    "df_amenities['amount'] = df['amenities_amount']\n",
    "df_amenities['score'] = y\n",
    "amenities_plot = pd.DataFrame(df_amenities.groupby(by= 'amount').score.mean()).reset_index()\n",
    "fig,ax0=plt.subplots(figsize=(10,6))\n",
    "amenities_plot.plot(kind = 'scatter', x = 'amount', y = 'score', ax =ax0)\n",
    "ax.grid(True)\n"
   ]
  },
  {
   "cell_type": "markdown",
   "metadata": {},
   "source": [
    "We also found that the amount of amenities provided by the host can also significantly affect the review score. Thus, we would also recommend Airbnb hosts to provide as many amenities as they can."
   ]
  },
  {
   "cell_type": "markdown",
   "metadata": {},
   "source": [
    "## Executive Summary\n",
    "As we all know, review scores are the most important indicator of the experience offered by an Airbnb listing to the customers. Almost every customer would check the review scores of a listing before they book and listings with higher review scores tend to get more exposure than those with lower scores. Thus, it is extremely important for an Airbnb host to improve his listings’ review scores. \n",
    "\n",
    "In order to help Airbnb hosts to get higher reviews scores rating, we decide to find the factors that affect the review scores most.  Given this, we consider reviews scores rating as our response variable and select some columns that may have some correlations with the reviews scores rating from our point of view.  We utilize XGBoost ( a Decision-Tree-Based ensemble Machine Learning algorithm method that uses gradient boosting framework) to find out the relationship between Reviews_Scores_Rating and variables.\n",
    "\n",
    "After analysis, we find out the length of description, hosts’ response rate and the amount of amenities has a positive correlation with reviews score rating while the calculated host listing count is negatively related. So we recommend hosts to make their descriptions as detailed as possible, improve their response rate and increase the amount of amenities and keep their number of listing relatively small to attract more customers.\n"
   ]
  },
  {
   "cell_type": "code",
   "execution_count": null,
   "metadata": {},
   "outputs": [],
   "source": []
  }
 ],
 "metadata": {
  "kernelspec": {
   "display_name": "Python 3",
   "language": "python",
   "name": "python3"
  },
  "language_info": {
   "codemirror_mode": {
    "name": "ipython",
    "version": 3
   },
   "file_extension": ".py",
   "mimetype": "text/x-python",
   "name": "python",
   "nbconvert_exporter": "python",
   "pygments_lexer": "ipython3",
   "version": "3.6.5"
  }
 },
 "nbformat": 4,
 "nbformat_minor": 2
}
