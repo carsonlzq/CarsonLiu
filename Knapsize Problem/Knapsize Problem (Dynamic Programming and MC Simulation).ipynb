{
 "cells": [
  {
   "cell_type": "code",
   "execution_count": 1,
   "metadata": {},
   "outputs": [],
   "source": [
    "#输入n：物品件数；c:最大承重为c的背包；w:各个物品的重量；v:各个物品的价值\n",
    "#返回（c+1）*（n+1）的matrix\n",
    "def knapsack(c,n,v,w):\n",
    "    matrix = [[0 for i in range(c+1)] for i in range(n+1)]\n",
    "    for i in range(1,n+1):\n",
    "        for j in range(1,c+1):\n",
    "            matrix[i][j] = matrix[i-1][j]\n",
    "            if (j -w[i-1]>=0) and matrix[i-1][int(j-w[i-1])]+ v[i-1] > matrix[i][j]:\n",
    "                matrix[i][j] = matrix[i-1][int(j-w[i-1])]+ v[i-1]\n",
    "    return matrix"
   ]
  },
  {
   "cell_type": "code",
   "execution_count": 2,
   "metadata": {},
   "outputs": [],
   "source": [
    "#输入某一instance下的matrix，得到该instance下每个物品的True 和False的list\n",
    "def tflist(matrix,c,w):\n",
    "    list = []\n",
    "    j =c\n",
    "    list = [0 for i in range(50)]\n",
    "    for i in range(1,51):\n",
    "        if matrix[int(51-i)][int(j)]> matrix[int(50-i)][int(j)]:\n",
    "            list[50-i] = 1\n",
    "            if j>= w[50-i]:\n",
    "                j -= w[50-i]\n",
    "    return list"
   ]
  },
  {
   "cell_type": "code",
   "execution_count": 224,
   "metadata": {},
   "outputs": [],
   "source": [
    "#在假设全部bag容量均为c的情况下，Combine each instances and the true-false list of each instances to get new CSV.\n",
    "import csv\n",
    "parsed_lines = [line.strip('\\n').split(',') for line in open('Knapsack_Instances.csv','r')]\n",
    "def get_csv(c):\n",
    "    totalline = []\n",
    "    for i in range(1,501):\n",
    "        w =[float(a) for a in parsed_lines[3*i-3]]\n",
    "        v = [float(b) for b in parsed_lines[3*i-2]]\n",
    "        matrix = knapsack(c, 50, v,w)\n",
    "        decision= tflist(matrix,c,w)\n",
    "        totalline.append(w)\n",
    "        totalline.append(v)\n",
    "        totalline.append(decision)\n",
    "    with open(\"output%d.csv\"%(c), \"w\", newline=\"\") as f:\n",
    "        writer = csv.writer(f)\n",
    "        writer.writerows(totalline)\n"
   ]
  },
  {
   "cell_type": "code",
   "execution_count": 226,
   "metadata": {},
   "outputs": [],
   "source": [
    "#假设bag 容量分别为U[100,150]，生成50个csv\n",
    "for c in range(100,151):\n",
    "    get_csv(c)"
   ]
  },
  {
   "cell_type": "code",
   "execution_count": 99,
   "metadata": {
    "scrolled": false
   },
   "outputs": [
    {
     "data": {
      "text/plain": [
       "118675.03999999996"
      ]
     },
     "execution_count": 99,
     "metadata": {},
     "output_type": "execute_result"
    }
   ],
   "source": [
    "#用蒙特卡洛生成一组500个随机数，求得500instances总最佳rewards\n",
    "#设包含一组随机数的array为d\n",
    "import numpy as np\n",
    "def get_totalbestrewards_montecarlo(d):\n",
    "    totalbestrewards=0\n",
    "    for i in range(1,501):\n",
    "        w =[float(a) for a in parsed_lines[3*i-3]]\n",
    "        v = [float(b) for b in parsed_lines[3*i-2]]\n",
    "        matrix = knapsack(d[i-1], 50, v,w)\n",
    "        totalbestrewards+= matrix[-1][-1]\n",
    "    return totalbestrewards\n"
   ]
  },
  {
   "cell_type": "code",
   "execution_count": 229,
   "metadata": {
    "scrolled": true
   },
   "outputs": [
    {
     "data": {
      "text/plain": [
       "[119115.75000000001,\n",
       " 116392.06999999998,\n",
       " 119093.17,\n",
       " 117082.28999999992,\n",
       " 118739.51000000005,\n",
       " 117901.31999999998,\n",
       " 117265.55999999998,\n",
       " 117297.88999999998,\n",
       " 118501.04,\n",
       " 117387.10999999991,\n",
       " 117473.55000000006,\n",
       " 116239.06999999998,\n",
       " 116927.61999999988,\n",
       " 118745.46000000004,\n",
       " 117319.78000000004,\n",
       " 116342.54999999987,\n",
       " 116850.3400000001,\n",
       " 117615.15999999995,\n",
       " 116947.75999999991,\n",
       " 116512.23999999996,\n",
       " 117634.93000000004,\n",
       " 116422.13,\n",
       " 117756.23999999998,\n",
       " 116800.2,\n",
       " 116989.83999999988,\n",
       " 117299.16999999988,\n",
       " 117290.96999999999,\n",
       " 116163.76,\n",
       " 116997.82999999984,\n",
       " 117922.52999999998,\n",
       " 117892.62999999998,\n",
       " 116793.83999999995,\n",
       " 117681.08,\n",
       " 116939.91999999993,\n",
       " 117197.09000000004,\n",
       " 116312.67,\n",
       " 118185.04000000001,\n",
       " 116586.33000000002,\n",
       " 116591.71000000018,\n",
       " 117694.22000000003,\n",
       " 117677.84000000011,\n",
       " 117735.53999999998,\n",
       " 116964.7499999999,\n",
       " 118410.54,\n",
       " 117562.04999999996,\n",
       " 117812.96999999996,\n",
       " 117339.29999999984,\n",
       " 116877.20999999993,\n",
       " 117366.14000000003,\n",
       " 118078.64000000004]"
      ]
     },
     "execution_count": 229,
     "metadata": {},
     "output_type": "execute_result"
    }
   ],
   "source": [
    "#重复上一步，用蒙特卡洛生成50组随机数，分别求得每组随机数下500个instances总最佳rewards\n",
    "#设包含50组随机数的list为D\n",
    "#设包含50组随机数下总最佳rewards的list为D_totalbestrewards\n",
    "D = [np.random.randint(100,151,500) for i in range(50)]\n",
    "D_totalbestrewards = []\n",
    "for d in D:\n",
    "    D_totalbestrewards.append(get_totalbestrewards_montecarlo(d))\n",
    "D_totalbestrewards"
   ]
  },
  {
   "cell_type": "code",
   "execution_count": 227,
   "metadata": {},
   "outputs": [],
   "source": [
    "#对于某一个c值下500个instances的decision(csv file),分别用50组随机数做为真实背包容量，计算我们在该c值下的50个总rewards\n",
    "def get_decisionrewards(c):\n",
    "    parsed_lines = [line.strip('\\n').split(',') for line in open(\"output%d.csv\"%(c), \"r\")]\n",
    "    D_totalrewards = []\n",
    "    for j in range(50):\n",
    "        d = D[j]\n",
    "        total_rewards = 0\n",
    "        for i in range(1,501):\n",
    "            w =[float(a) for a in parsed_lines[3*i-3]]\n",
    "            v =[float(b) for b in parsed_lines[3*i-2]]\n",
    "            decision = [float(c) for c in parsed_lines[3*i-1]]\n",
    "            decision_weight = 0\n",
    "            decision_value = 0\n",
    "            for p in range(50):\n",
    "                decision_weight+=decision[p]*w[p]\n",
    "                decision_value +=decision[p]*v[p]\n",
    "            if decision_weight<=d[i-1]:\n",
    "                total_rewards += decision_value \n",
    "        D_totalrewards.append(total_rewards)\n",
    "    return(D_totalrewards)"
   ]
  },
  {
   "cell_type": "code",
   "execution_count": 241,
   "metadata": {},
   "outputs": [],
   "source": [
    "#计算出某一个c值下，50个总rewards 的平均值，除以50个总最佳rewards的平均值，得到该c值的成绩\n",
    "def get_grade(c):\n",
    "    denom = sum([a for a in get_decisionrewards(c)])\n",
    "    nom = sum(D_totalbestrewards)\n",
    "    grade = denom/nom\n",
    "    return grade"
   ]
  },
  {
   "cell_type": "code",
   "execution_count": 248,
   "metadata": {},
   "outputs": [],
   "source": [
    "#计算每一个c值的成绩，选出最佳c值\n",
    "def get_best_c():\n",
    "    best_c = 0\n",
    "    best_grade = 0\n",
    "    for i in range(100,151):\n",
    "        if get_grade(i)>best_grade:\n",
    "            best_grade = get_grade(i)\n",
    "            best_c = i\n",
    "    return best_c"
   ]
  },
  {
   "cell_type": "code",
   "execution_count": 249,
   "metadata": {},
   "outputs": [
    {
     "data": {
      "text/plain": [
       "101"
      ]
     },
     "execution_count": 249,
     "metadata": {},
     "output_type": "execute_result"
    }
   ],
   "source": [
    "get_best_c()"
   ]
  },
  {
   "cell_type": "code",
   "execution_count": 2,
   "metadata": {},
   "outputs": [],
   "source": [
    "import numpy as np\n",
    "import csv"
   ]
  },
  {
   "cell_type": "code",
   "execution_count": 4,
   "metadata": {
    "collapsed": true
   },
   "outputs": [
    {
     "ename": "KeyboardInterrupt",
     "evalue": "",
     "output_type": "error",
     "traceback": [
      "\u001b[1;31m---------------------------------------------------------------------------\u001b[0m",
      "\u001b[1;31mKeyboardInterrupt\u001b[0m                         Traceback (most recent call last)",
      "\u001b[1;32m<ipython-input-4-1b693128e9bf>\u001b[0m in \u001b[0;36m<module>\u001b[1;34m()\u001b[0m\n\u001b[0;32m      6\u001b[0m         \u001b[0mtotalline\u001b[0m \u001b[1;33m=\u001b[0m \u001b[1;33m[\u001b[0m\u001b[1;33m]\u001b[0m\u001b[1;33m\u001b[0m\u001b[0m\n\u001b[0;32m      7\u001b[0m         \u001b[1;32mfor\u001b[0m \u001b[0mc\u001b[0m \u001b[1;32min\u001b[0m \u001b[0mrange\u001b[0m\u001b[1;33m(\u001b[0m\u001b[1;36m100\u001b[0m\u001b[1;33m,\u001b[0m\u001b[1;36m151\u001b[0m\u001b[1;33m)\u001b[0m\u001b[1;33m:\u001b[0m\u001b[1;33m\u001b[0m\u001b[0m\n\u001b[1;32m----> 8\u001b[1;33m             \u001b[0mmatrix\u001b[0m \u001b[1;33m=\u001b[0m \u001b[0mknapsack\u001b[0m\u001b[1;33m(\u001b[0m\u001b[0mc\u001b[0m\u001b[1;33m,\u001b[0m \u001b[1;36m50\u001b[0m\u001b[1;33m,\u001b[0m \u001b[0mv\u001b[0m\u001b[1;33m,\u001b[0m\u001b[0mw\u001b[0m\u001b[1;33m)\u001b[0m\u001b[1;33m\u001b[0m\u001b[0m\n\u001b[0m\u001b[0;32m      9\u001b[0m             \u001b[0mdecision\u001b[0m\u001b[1;33m=\u001b[0m \u001b[0mtflist\u001b[0m\u001b[1;33m(\u001b[0m\u001b[0mmatrix\u001b[0m\u001b[1;33m,\u001b[0m\u001b[0mc\u001b[0m\u001b[1;33m,\u001b[0m\u001b[0mw\u001b[0m\u001b[1;33m)\u001b[0m\u001b[1;33m\u001b[0m\u001b[0m\n\u001b[0;32m     10\u001b[0m             \u001b[0mtotalline\u001b[0m\u001b[1;33m.\u001b[0m\u001b[0mappend\u001b[0m\u001b[1;33m(\u001b[0m\u001b[0mw\u001b[0m\u001b[1;33m)\u001b[0m\u001b[1;33m\u001b[0m\u001b[0m\n",
      "\u001b[1;32m<ipython-input-1-e9a4e95e0c8d>\u001b[0m in \u001b[0;36mknapsack\u001b[1;34m(c, n, v, w)\u001b[0m\n\u001b[0;32m      5\u001b[0m     \u001b[1;32mfor\u001b[0m \u001b[0mi\u001b[0m \u001b[1;32min\u001b[0m \u001b[0mrange\u001b[0m\u001b[1;33m(\u001b[0m\u001b[1;36m1\u001b[0m\u001b[1;33m,\u001b[0m\u001b[0mn\u001b[0m\u001b[1;33m+\u001b[0m\u001b[1;36m1\u001b[0m\u001b[1;33m)\u001b[0m\u001b[1;33m:\u001b[0m\u001b[1;33m\u001b[0m\u001b[0m\n\u001b[0;32m      6\u001b[0m         \u001b[1;32mfor\u001b[0m \u001b[0mj\u001b[0m \u001b[1;32min\u001b[0m \u001b[0mrange\u001b[0m\u001b[1;33m(\u001b[0m\u001b[1;36m1\u001b[0m\u001b[1;33m,\u001b[0m\u001b[0mc\u001b[0m\u001b[1;33m+\u001b[0m\u001b[1;36m1\u001b[0m\u001b[1;33m)\u001b[0m\u001b[1;33m:\u001b[0m\u001b[1;33m\u001b[0m\u001b[0m\n\u001b[1;32m----> 7\u001b[1;33m             \u001b[0mmatrix\u001b[0m\u001b[1;33m[\u001b[0m\u001b[0mi\u001b[0m\u001b[1;33m]\u001b[0m\u001b[1;33m[\u001b[0m\u001b[0mj\u001b[0m\u001b[1;33m]\u001b[0m \u001b[1;33m=\u001b[0m \u001b[0mmatrix\u001b[0m\u001b[1;33m[\u001b[0m\u001b[0mi\u001b[0m\u001b[1;33m-\u001b[0m\u001b[1;36m1\u001b[0m\u001b[1;33m]\u001b[0m\u001b[1;33m[\u001b[0m\u001b[0mj\u001b[0m\u001b[1;33m]\u001b[0m\u001b[1;33m\u001b[0m\u001b[0m\n\u001b[0m\u001b[0;32m      8\u001b[0m             \u001b[1;32mif\u001b[0m \u001b[1;33m(\u001b[0m\u001b[0mj\u001b[0m \u001b[1;33m-\u001b[0m\u001b[0mw\u001b[0m\u001b[1;33m[\u001b[0m\u001b[0mi\u001b[0m\u001b[1;33m-\u001b[0m\u001b[1;36m1\u001b[0m\u001b[1;33m]\u001b[0m\u001b[1;33m>=\u001b[0m\u001b[1;36m0\u001b[0m\u001b[1;33m)\u001b[0m \u001b[1;32mand\u001b[0m \u001b[0mmatrix\u001b[0m\u001b[1;33m[\u001b[0m\u001b[0mi\u001b[0m\u001b[1;33m-\u001b[0m\u001b[1;36m1\u001b[0m\u001b[1;33m]\u001b[0m\u001b[1;33m[\u001b[0m\u001b[0mint\u001b[0m\u001b[1;33m(\u001b[0m\u001b[0mj\u001b[0m\u001b[1;33m-\u001b[0m\u001b[0mw\u001b[0m\u001b[1;33m[\u001b[0m\u001b[0mi\u001b[0m\u001b[1;33m-\u001b[0m\u001b[1;36m1\u001b[0m\u001b[1;33m]\u001b[0m\u001b[1;33m)\u001b[0m\u001b[1;33m]\u001b[0m\u001b[1;33m+\u001b[0m \u001b[0mv\u001b[0m\u001b[1;33m[\u001b[0m\u001b[0mi\u001b[0m\u001b[1;33m-\u001b[0m\u001b[1;36m1\u001b[0m\u001b[1;33m]\u001b[0m \u001b[1;33m>\u001b[0m \u001b[0mmatrix\u001b[0m\u001b[1;33m[\u001b[0m\u001b[0mi\u001b[0m\u001b[1;33m]\u001b[0m\u001b[1;33m[\u001b[0m\u001b[0mj\u001b[0m\u001b[1;33m]\u001b[0m\u001b[1;33m:\u001b[0m\u001b[1;33m\u001b[0m\u001b[0m\n\u001b[0;32m      9\u001b[0m                 \u001b[0mmatrix\u001b[0m\u001b[1;33m[\u001b[0m\u001b[0mi\u001b[0m\u001b[1;33m]\u001b[0m\u001b[1;33m[\u001b[0m\u001b[0mj\u001b[0m\u001b[1;33m]\u001b[0m \u001b[1;33m=\u001b[0m \u001b[0mmatrix\u001b[0m\u001b[1;33m[\u001b[0m\u001b[0mi\u001b[0m\u001b[1;33m-\u001b[0m\u001b[1;36m1\u001b[0m\u001b[1;33m]\u001b[0m\u001b[1;33m[\u001b[0m\u001b[0mint\u001b[0m\u001b[1;33m(\u001b[0m\u001b[0mj\u001b[0m\u001b[1;33m-\u001b[0m\u001b[0mw\u001b[0m\u001b[1;33m[\u001b[0m\u001b[0mi\u001b[0m\u001b[1;33m-\u001b[0m\u001b[1;36m1\u001b[0m\u001b[1;33m]\u001b[0m\u001b[1;33m)\u001b[0m\u001b[1;33m]\u001b[0m\u001b[1;33m+\u001b[0m \u001b[0mv\u001b[0m\u001b[1;33m[\u001b[0m\u001b[0mi\u001b[0m\u001b[1;33m-\u001b[0m\u001b[1;36m1\u001b[0m\u001b[1;33m]\u001b[0m\u001b[1;33m\u001b[0m\u001b[0m\n",
      "\u001b[1;31mKeyboardInterrupt\u001b[0m: "
     ]
    }
   ],
   "source": [
    "#生成500个csv文件，每个csv中包含每个instance在c=U[100,150]下的最佳decision\n",
    "parsed_lines = [line.strip('\\n').split(',') for line in open('Knapsack_Instances.csv','r')]\n",
    "for i in range(1,501):\n",
    "        w =[float(a) for a in parsed_lines[3*i-3]]\n",
    "        v = [float(b) for b in parsed_lines[3*i-2]]\n",
    "        totalline = []\n",
    "        for c in range(100,151):\n",
    "            matrix = knapsack(c, 50, v,w)\n",
    "            decision= tflist(matrix,c,w)\n",
    "            totalline.append(w)\n",
    "            totalline.append(v)\n",
    "            totalline.append(decision)\n",
    "        with open(\"instance%d.csv\"%(i), \"w\", newline=\"\") as f:\n",
    "            writer = csv.writer(f)\n",
    "            writer.writerows(totalline)"
   ]
  },
  {
   "cell_type": "code",
   "execution_count": 5,
   "metadata": {},
   "outputs": [],
   "source": [
    "#对每个instance的每个bag size，用100个random真实bag size算出每个bag size的total rewards，返回到一个list里\n",
    "def get_rewards_instance(d,random):\n",
    "    parsed_lines = [line.strip('\\n').split(',') for line in open(\"instance%d.csv\"%(d), \"r\")]\n",
    "    D_totalrewards_ins = []\n",
    "    for i in range(1,52):\n",
    "        w =[float(a) for a in parsed_lines[3*i-3]]\n",
    "        v =[float(b) for b in parsed_lines[3*i-2]]\n",
    "        decision = [float(c) for c in parsed_lines[3*i-1]]\n",
    "        decision_weight = 0\n",
    "        decision_value = 0\n",
    "        total_rewards = 0\n",
    "        for p in range(50):\n",
    "            decision_weight+=decision[p]*w[p]\n",
    "            decision_value +=decision[p]*v[p]\n",
    "        for j in range(len(random)):\n",
    "            b = random[j]\n",
    "            if decision_weight<=b:\n",
    "                total_rewards += decision_value \n",
    "        D_totalrewards_ins.append(total_rewards)\n",
    "    return(D_totalrewards_ins)"
   ]
  },
  {
   "cell_type": "code",
   "execution_count": 6,
   "metadata": {},
   "outputs": [],
   "source": [
    "#找出list中最大的rewards，确认该rewards所用的bagsize\n",
    "def get_ins_bestbagsize(rewardslist):\n",
    "    bestrewards = max(rewardslist)\n",
    "    bagsize = rewardslist.index(bestrewards)+100\n",
    "    return bagsize"
   ]
  },
  {
   "cell_type": "code",
   "execution_count": 9,
   "metadata": {},
   "outputs": [],
   "source": [
    "test_number = 50000\n",
    "random = np.random.randint(100,151,test_number)"
   ]
  },
  {
   "cell_type": "code",
   "execution_count": 7,
   "metadata": {},
   "outputs": [],
   "source": [
    "#Combine previous functions，对500个instance的中的每一个，找出相应最佳bagsize，生成包含500个best bagsize的list\n",
    "def get_bestsize_list():\n",
    "    total_bagsize_list = []\n",
    "    for d in range(1,501):\n",
    "        rewardslist = get_rewards_instance(d,random)\n",
    "        ins_best_bagsize = get_ins_bestbagsize(rewardslist)\n",
    "        total_bagsize_list.append(ins_best_bagsize)\n",
    "    return(total_bagsize_list)"
   ]
  },
  {
   "cell_type": "code",
   "execution_count": 10,
   "metadata": {},
   "outputs": [],
   "source": [
    "bestsize_list = get_bestsize_list()\n"
   ]
  },
  {
   "cell_type": "code",
   "execution_count": 11,
   "metadata": {},
   "outputs": [],
   "source": [
    "#最后用新的最佳bag size list生成新的csv\n",
    "def get_level4_csv(bestsize_list):\n",
    "    parsed_lines = [line.strip('\\n').split(',') for line in open('Knapsack_Instances.csv','r')]\n",
    "    totalline = []\n",
    "    for i in range(1,501):\n",
    "        w =[float(a) for a in parsed_lines[3*i-3]]\n",
    "        v = [float(b) for b in parsed_lines[3*i-2]]\n",
    "        matrix = knapsack(bestsize_list[i-1], 50, v,w)\n",
    "        decision= tflist(matrix,bestsize_list[i-1],w)\n",
    "        totalline.append(w)\n",
    "        totalline.append(v)\n",
    "        totalline.append(decision)\n",
    "    with open(\"level4_output50000.csv\", \"w\", newline=\"\") as f:\n",
    "        writer = csv.writer(f)\n",
    "        writer.writerows(totalline)"
   ]
  },
  {
   "cell_type": "code",
   "execution_count": 12,
   "metadata": {},
   "outputs": [],
   "source": [
    "get_level4_csv(bestsize_list)"
   ]
  }
 ],
 "metadata": {
  "kernelspec": {
   "display_name": "Python 3",
   "language": "python",
   "name": "python3"
  },
  "language_info": {
   "codemirror_mode": {
    "name": "ipython",
    "version": 3
   },
   "file_extension": ".py",
   "mimetype": "text/x-python",
   "name": "python",
   "nbconvert_exporter": "python",
   "pygments_lexer": "ipython3",
   "version": "3.6.5"
  }
 },
 "nbformat": 4,
 "nbformat_minor": 2
}
